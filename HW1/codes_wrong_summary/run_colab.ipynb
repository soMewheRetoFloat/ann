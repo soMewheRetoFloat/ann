{
 "cells": [
  {
   "cell_type": "markdown",
   "metadata": {
    "id": "8W9h0JEFSZwH"
   },
   "source": [
    "1. 挂载 Google Drive 目录"
   ]
  },
  {
   "cell_type": "code",
   "execution_count": 3,
   "metadata": {},
   "outputs": [
    {
     "name": "stdout",
     "output_type": "stream",
     "text": [
      "[-3.43656366e+00 -9.77811220e+00 -3.01710738e+01 -9.21963001e+01\n",
      " -2.70826318e+02 -7.69857587e+02 -2.14326632e+03 -5.89691597e+03\n",
      " -1.61241679e+04 -4.39519316e+04]\n"
     ]
    }
   ],
   "source": [
    "import numpy as np\n",
    "\n",
    "ipt = np.array([1, 2, 3, 4, 5, 6, 7, 8, 9, 10])\n",
    "\n",
    "def gertew(inp):\n",
    "    return inp * inp - 2 * np.exp(inp) + 1\n",
    "\n",
    "print(gertew(ipt))"
   ]
  },
  {
   "cell_type": "code",
   "execution_count": null,
   "metadata": {
    "id": "8jRDUexEPkWm"
   },
   "outputs": [],
   "source": [
    "from google.colab import drive\n",
    "drive.mount('/content/drive/')"
   ]
  },
  {
   "cell_type": "markdown",
   "metadata": {
    "id": "OPAYd5chSlZm"
   },
   "source": [
    "2. 进入 `HW1` 目录下"
   ]
  },
  {
   "cell_type": "code",
   "execution_count": null,
   "metadata": {
    "id": "b5pN0x6fQQHy"
   },
   "outputs": [],
   "source": [
    "import os\n",
    "os.chdir(\"/content/drive/My Drive/HW1\")"
   ]
  },
  {
   "cell_type": "markdown",
   "metadata": {
    "id": "mtKESjtLSstB"
   },
   "source": [
    "3. 查看目录下文件"
   ]
  },
  {
   "cell_type": "code",
   "execution_count": null,
   "metadata": {
    "id": "dLpuTzwEQa4D"
   },
   "outputs": [],
   "source": [
    "!ls"
   ]
  },
  {
   "cell_type": "markdown",
   "metadata": {
    "id": "fe9DO3ZpS3jI"
   },
   "source": [
    "4. 运行作业程序"
   ]
  },
  {
   "cell_type": "code",
   "execution_count": null,
   "metadata": {
    "id": "d1zLKwgqSy-W"
   },
   "outputs": [],
   "source": [
    "!python3 run_mlp.py"
   ]
  }
 ],
 "metadata": {
  "accelerator": "GPU",
  "colab": {
   "provenance": []
  },
  "kernelspec": {
   "display_name": "Python 3.6.5 32-bit",
   "language": "python",
   "name": "python3"
  },
  "language_info": {
   "codemirror_mode": {
    "name": "ipython",
    "version": 3
   },
   "file_extension": ".py",
   "mimetype": "text/x-python",
   "name": "python",
   "nbconvert_exporter": "python",
   "pygments_lexer": "ipython3",
   "version": "3.10.14"
  },
  "vscode": {
   "interpreter": {
    "hash": "56d58471fa82f2e2d8acea901b8942cda978922ae697f1672349424f0307af68"
   }
  }
 },
 "nbformat": 4,
 "nbformat_minor": 0
}
